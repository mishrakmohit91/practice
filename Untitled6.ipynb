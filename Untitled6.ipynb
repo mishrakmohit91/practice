{
  "nbformat": 4,
  "nbformat_minor": 0,
  "metadata": {
    "colab": {
      "name": "Untitled6.ipynb",
      "provenance": [],
      "collapsed_sections": [],
      "authorship_tag": "ABX9TyM3nQpMeZFkAzhu59EWUaZ+",
      "include_colab_link": true
    },
    "kernelspec": {
      "name": "python3",
      "display_name": "Python 3"
    }
  },
  "cells": [
    {
      "cell_type": "markdown",
      "metadata": {
        "id": "view-in-github",
        "colab_type": "text"
      },
      "source": [
        "<a href=\"https://colab.research.google.com/github/mishrakmohit91/practice/blob/master/Untitled6.ipynb\" target=\"_parent\"><img src=\"https://colab.research.google.com/assets/colab-badge.svg\" alt=\"Open In Colab\"/></a>"
      ]
    },
    {
      "cell_type": "code",
      "metadata": {
        "id": "S9ef2q_8jawB",
        "colab_type": "code",
        "outputId": "e6c3a38b-4181-4399-9a30-4f4b2b074362",
        "colab": {
          "base_uri": "https://localhost:8080/",
          "height": 71
        }
      },
      "source": [
        "import pandas as pd\n",
        "import numpy as np\n",
        "import seaborn as sns\n",
        "import matplotlib.pyplot as plt"
      ],
      "execution_count": 0,
      "outputs": [
        {
          "output_type": "stream",
          "text": [
            "/usr/local/lib/python3.6/dist-packages/statsmodels/tools/_testing.py:19: FutureWarning: pandas.util.testing is deprecated. Use the functions in the public API at pandas.testing instead.\n",
            "  import pandas.util.testing as tm\n"
          ],
          "name": "stderr"
        }
      ]
    },
    {
      "cell_type": "markdown",
      "metadata": {
        "id": "3-Ei0XRzjfMs",
        "colab_type": "text"
      },
      "source": [
        "LOAD DATASET\n"
      ]
    },
    {
      "cell_type": "code",
      "metadata": {
        "id": "oAOCcNkakWfv",
        "colab_type": "code",
        "colab": {}
      },
      "source": [
        "import random"
      ],
      "execution_count": 0,
      "outputs": []
    },
    {
      "cell_type": "code",
      "metadata": {
        "id": "seJbZPJ0kbO6",
        "colab_type": "code",
        "colab": {}
      },
      "source": [
        "fashion_train_df = pd.read_csv('/content/fashion-mnist_train.csv', sep = ',')\n",
        "fashion_test_df = pd.read_csv('/content/fashion-mnist_test.csv', sep = ',')"
      ],
      "execution_count": 0,
      "outputs": []
    },
    {
      "cell_type": "markdown",
      "metadata": {
        "id": "HbwvycnAlyqV",
        "colab_type": "text"
      },
      "source": [
        "DATA VISUALIZATION"
      ]
    },
    {
      "cell_type": "code",
      "metadata": {
        "id": "DfMS09aYl3u4",
        "colab_type": "code",
        "outputId": "83650c8f-36a0-4271-a82e-610e143e1573",
        "colab": {
          "base_uri": "https://localhost:8080/",
          "height": 253
        }
      },
      "source": [
        "fashion_train_df.head(5)\n",
        "fashion_test_df.head(5)"
      ],
      "execution_count": 0,
      "outputs": [
        {
          "output_type": "execute_result",
          "data": {
            "text/html": [
              "<div>\n",
              "<style scoped>\n",
              "    .dataframe tbody tr th:only-of-type {\n",
              "        vertical-align: middle;\n",
              "    }\n",
              "\n",
              "    .dataframe tbody tr th {\n",
              "        vertical-align: top;\n",
              "    }\n",
              "\n",
              "    .dataframe thead th {\n",
              "        text-align: right;\n",
              "    }\n",
              "</style>\n",
              "<table border=\"1\" class=\"dataframe\">\n",
              "  <thead>\n",
              "    <tr style=\"text-align: right;\">\n",
              "      <th></th>\n",
              "      <th>label</th>\n",
              "      <th>pixel1</th>\n",
              "      <th>pixel2</th>\n",
              "      <th>pixel3</th>\n",
              "      <th>pixel4</th>\n",
              "      <th>pixel5</th>\n",
              "      <th>pixel6</th>\n",
              "      <th>pixel7</th>\n",
              "      <th>pixel8</th>\n",
              "      <th>pixel9</th>\n",
              "      <th>pixel10</th>\n",
              "      <th>pixel11</th>\n",
              "      <th>pixel12</th>\n",
              "      <th>pixel13</th>\n",
              "      <th>pixel14</th>\n",
              "      <th>pixel15</th>\n",
              "      <th>pixel16</th>\n",
              "      <th>pixel17</th>\n",
              "      <th>pixel18</th>\n",
              "      <th>pixel19</th>\n",
              "      <th>pixel20</th>\n",
              "      <th>pixel21</th>\n",
              "      <th>pixel22</th>\n",
              "      <th>pixel23</th>\n",
              "      <th>pixel24</th>\n",
              "      <th>pixel25</th>\n",
              "      <th>pixel26</th>\n",
              "      <th>pixel27</th>\n",
              "      <th>pixel28</th>\n",
              "      <th>pixel29</th>\n",
              "      <th>pixel30</th>\n",
              "      <th>pixel31</th>\n",
              "      <th>pixel32</th>\n",
              "      <th>pixel33</th>\n",
              "      <th>pixel34</th>\n",
              "      <th>pixel35</th>\n",
              "      <th>pixel36</th>\n",
              "      <th>pixel37</th>\n",
              "      <th>pixel38</th>\n",
              "      <th>pixel39</th>\n",
              "      <th>...</th>\n",
              "      <th>pixel745</th>\n",
              "      <th>pixel746</th>\n",
              "      <th>pixel747</th>\n",
              "      <th>pixel748</th>\n",
              "      <th>pixel749</th>\n",
              "      <th>pixel750</th>\n",
              "      <th>pixel751</th>\n",
              "      <th>pixel752</th>\n",
              "      <th>pixel753</th>\n",
              "      <th>pixel754</th>\n",
              "      <th>pixel755</th>\n",
              "      <th>pixel756</th>\n",
              "      <th>pixel757</th>\n",
              "      <th>pixel758</th>\n",
              "      <th>pixel759</th>\n",
              "      <th>pixel760</th>\n",
              "      <th>pixel761</th>\n",
              "      <th>pixel762</th>\n",
              "      <th>pixel763</th>\n",
              "      <th>pixel764</th>\n",
              "      <th>pixel765</th>\n",
              "      <th>pixel766</th>\n",
              "      <th>pixel767</th>\n",
              "      <th>pixel768</th>\n",
              "      <th>pixel769</th>\n",
              "      <th>pixel770</th>\n",
              "      <th>pixel771</th>\n",
              "      <th>pixel772</th>\n",
              "      <th>pixel773</th>\n",
              "      <th>pixel774</th>\n",
              "      <th>pixel775</th>\n",
              "      <th>pixel776</th>\n",
              "      <th>pixel777</th>\n",
              "      <th>pixel778</th>\n",
              "      <th>pixel779</th>\n",
              "      <th>pixel780</th>\n",
              "      <th>pixel781</th>\n",
              "      <th>pixel782</th>\n",
              "      <th>pixel783</th>\n",
              "      <th>pixel784</th>\n",
              "    </tr>\n",
              "  </thead>\n",
              "  <tbody>\n",
              "    <tr>\n",
              "      <th>0</th>\n",
              "      <td>0</td>\n",
              "      <td>0</td>\n",
              "      <td>0</td>\n",
              "      <td>0</td>\n",
              "      <td>0</td>\n",
              "      <td>0</td>\n",
              "      <td>0</td>\n",
              "      <td>0</td>\n",
              "      <td>9</td>\n",
              "      <td>8</td>\n",
              "      <td>0</td>\n",
              "      <td>0</td>\n",
              "      <td>34</td>\n",
              "      <td>29</td>\n",
              "      <td>7</td>\n",
              "      <td>0</td>\n",
              "      <td>11</td>\n",
              "      <td>24</td>\n",
              "      <td>0</td>\n",
              "      <td>0</td>\n",
              "      <td>3</td>\n",
              "      <td>3</td>\n",
              "      <td>1</td>\n",
              "      <td>0</td>\n",
              "      <td>1</td>\n",
              "      <td>1</td>\n",
              "      <td>0</td>\n",
              "      <td>0</td>\n",
              "      <td>0</td>\n",
              "      <td>0</td>\n",
              "      <td>0</td>\n",
              "      <td>4</td>\n",
              "      <td>0</td>\n",
              "      <td>0</td>\n",
              "      <td>1</td>\n",
              "      <td>0</td>\n",
              "      <td>0</td>\n",
              "      <td>0</td>\n",
              "      <td>0</td>\n",
              "      <td>0</td>\n",
              "      <td>...</td>\n",
              "      <td>242</td>\n",
              "      <td>245</td>\n",
              "      <td>224</td>\n",
              "      <td>245</td>\n",
              "      <td>234</td>\n",
              "      <td>0</td>\n",
              "      <td>3</td>\n",
              "      <td>0</td>\n",
              "      <td>0</td>\n",
              "      <td>0</td>\n",
              "      <td>0</td>\n",
              "      <td>0</td>\n",
              "      <td>0</td>\n",
              "      <td>0</td>\n",
              "      <td>0</td>\n",
              "      <td>0</td>\n",
              "      <td>0</td>\n",
              "      <td>0</td>\n",
              "      <td>0</td>\n",
              "      <td>37</td>\n",
              "      <td>69</td>\n",
              "      <td>94</td>\n",
              "      <td>123</td>\n",
              "      <td>127</td>\n",
              "      <td>138</td>\n",
              "      <td>138</td>\n",
              "      <td>142</td>\n",
              "      <td>145</td>\n",
              "      <td>135</td>\n",
              "      <td>125</td>\n",
              "      <td>103</td>\n",
              "      <td>87</td>\n",
              "      <td>56</td>\n",
              "      <td>0</td>\n",
              "      <td>0</td>\n",
              "      <td>0</td>\n",
              "      <td>0</td>\n",
              "      <td>0</td>\n",
              "      <td>0</td>\n",
              "      <td>0</td>\n",
              "    </tr>\n",
              "    <tr>\n",
              "      <th>1</th>\n",
              "      <td>1</td>\n",
              "      <td>0</td>\n",
              "      <td>0</td>\n",
              "      <td>0</td>\n",
              "      <td>0</td>\n",
              "      <td>0</td>\n",
              "      <td>0</td>\n",
              "      <td>0</td>\n",
              "      <td>0</td>\n",
              "      <td>0</td>\n",
              "      <td>0</td>\n",
              "      <td>0</td>\n",
              "      <td>209</td>\n",
              "      <td>190</td>\n",
              "      <td>181</td>\n",
              "      <td>150</td>\n",
              "      <td>170</td>\n",
              "      <td>193</td>\n",
              "      <td>180</td>\n",
              "      <td>219</td>\n",
              "      <td>5</td>\n",
              "      <td>0</td>\n",
              "      <td>0</td>\n",
              "      <td>0</td>\n",
              "      <td>0</td>\n",
              "      <td>0</td>\n",
              "      <td>0</td>\n",
              "      <td>0</td>\n",
              "      <td>0</td>\n",
              "      <td>0</td>\n",
              "      <td>0</td>\n",
              "      <td>0</td>\n",
              "      <td>0</td>\n",
              "      <td>0</td>\n",
              "      <td>0</td>\n",
              "      <td>0</td>\n",
              "      <td>0</td>\n",
              "      <td>0</td>\n",
              "      <td>0</td>\n",
              "      <td>24</td>\n",
              "      <td>...</td>\n",
              "      <td>248</td>\n",
              "      <td>238</td>\n",
              "      <td>80</td>\n",
              "      <td>0</td>\n",
              "      <td>0</td>\n",
              "      <td>0</td>\n",
              "      <td>0</td>\n",
              "      <td>0</td>\n",
              "      <td>0</td>\n",
              "      <td>0</td>\n",
              "      <td>0</td>\n",
              "      <td>0</td>\n",
              "      <td>0</td>\n",
              "      <td>0</td>\n",
              "      <td>0</td>\n",
              "      <td>0</td>\n",
              "      <td>0</td>\n",
              "      <td>0</td>\n",
              "      <td>0</td>\n",
              "      <td>0</td>\n",
              "      <td>0</td>\n",
              "      <td>0</td>\n",
              "      <td>0</td>\n",
              "      <td>174</td>\n",
              "      <td>233</td>\n",
              "      <td>155</td>\n",
              "      <td>0</td>\n",
              "      <td>65</td>\n",
              "      <td>235</td>\n",
              "      <td>216</td>\n",
              "      <td>34</td>\n",
              "      <td>0</td>\n",
              "      <td>0</td>\n",
              "      <td>0</td>\n",
              "      <td>0</td>\n",
              "      <td>0</td>\n",
              "      <td>0</td>\n",
              "      <td>0</td>\n",
              "      <td>0</td>\n",
              "      <td>0</td>\n",
              "    </tr>\n",
              "    <tr>\n",
              "      <th>2</th>\n",
              "      <td>2</td>\n",
              "      <td>0</td>\n",
              "      <td>0</td>\n",
              "      <td>0</td>\n",
              "      <td>0</td>\n",
              "      <td>0</td>\n",
              "      <td>0</td>\n",
              "      <td>14</td>\n",
              "      <td>53</td>\n",
              "      <td>99</td>\n",
              "      <td>17</td>\n",
              "      <td>0</td>\n",
              "      <td>0</td>\n",
              "      <td>0</td>\n",
              "      <td>0</td>\n",
              "      <td>0</td>\n",
              "      <td>0</td>\n",
              "      <td>0</td>\n",
              "      <td>0</td>\n",
              "      <td>12</td>\n",
              "      <td>94</td>\n",
              "      <td>68</td>\n",
              "      <td>14</td>\n",
              "      <td>0</td>\n",
              "      <td>0</td>\n",
              "      <td>0</td>\n",
              "      <td>0</td>\n",
              "      <td>0</td>\n",
              "      <td>0</td>\n",
              "      <td>0</td>\n",
              "      <td>0</td>\n",
              "      <td>0</td>\n",
              "      <td>0</td>\n",
              "      <td>0</td>\n",
              "      <td>38</td>\n",
              "      <td>106</td>\n",
              "      <td>94</td>\n",
              "      <td>89</td>\n",
              "      <td>94</td>\n",
              "      <td>68</td>\n",
              "      <td>...</td>\n",
              "      <td>0</td>\n",
              "      <td>0</td>\n",
              "      <td>0</td>\n",
              "      <td>0</td>\n",
              "      <td>0</td>\n",
              "      <td>0</td>\n",
              "      <td>87</td>\n",
              "      <td>12</td>\n",
              "      <td>26</td>\n",
              "      <td>0</td>\n",
              "      <td>0</td>\n",
              "      <td>0</td>\n",
              "      <td>0</td>\n",
              "      <td>0</td>\n",
              "      <td>0</td>\n",
              "      <td>0</td>\n",
              "      <td>46</td>\n",
              "      <td>50</td>\n",
              "      <td>29</td>\n",
              "      <td>0</td>\n",
              "      <td>2</td>\n",
              "      <td>0</td>\n",
              "      <td>0</td>\n",
              "      <td>0</td>\n",
              "      <td>0</td>\n",
              "      <td>0</td>\n",
              "      <td>0</td>\n",
              "      <td>0</td>\n",
              "      <td>0</td>\n",
              "      <td>0</td>\n",
              "      <td>0</td>\n",
              "      <td>0</td>\n",
              "      <td>0</td>\n",
              "      <td>0</td>\n",
              "      <td>63</td>\n",
              "      <td>53</td>\n",
              "      <td>31</td>\n",
              "      <td>0</td>\n",
              "      <td>0</td>\n",
              "      <td>0</td>\n",
              "    </tr>\n",
              "    <tr>\n",
              "      <th>3</th>\n",
              "      <td>2</td>\n",
              "      <td>0</td>\n",
              "      <td>0</td>\n",
              "      <td>0</td>\n",
              "      <td>0</td>\n",
              "      <td>0</td>\n",
              "      <td>0</td>\n",
              "      <td>0</td>\n",
              "      <td>0</td>\n",
              "      <td>0</td>\n",
              "      <td>161</td>\n",
              "      <td>212</td>\n",
              "      <td>138</td>\n",
              "      <td>150</td>\n",
              "      <td>169</td>\n",
              "      <td>164</td>\n",
              "      <td>176</td>\n",
              "      <td>202</td>\n",
              "      <td>255</td>\n",
              "      <td>183</td>\n",
              "      <td>26</td>\n",
              "      <td>0</td>\n",
              "      <td>0</td>\n",
              "      <td>0</td>\n",
              "      <td>0</td>\n",
              "      <td>0</td>\n",
              "      <td>0</td>\n",
              "      <td>0</td>\n",
              "      <td>0</td>\n",
              "      <td>0</td>\n",
              "      <td>0</td>\n",
              "      <td>0</td>\n",
              "      <td>1</td>\n",
              "      <td>0</td>\n",
              "      <td>0</td>\n",
              "      <td>129</td>\n",
              "      <td>221</td>\n",
              "      <td>255</td>\n",
              "      <td>255</td>\n",
              "      <td>215</td>\n",
              "      <td>...</td>\n",
              "      <td>255</td>\n",
              "      <td>255</td>\n",
              "      <td>254</td>\n",
              "      <td>252</td>\n",
              "      <td>255</td>\n",
              "      <td>101</td>\n",
              "      <td>196</td>\n",
              "      <td>254</td>\n",
              "      <td>252</td>\n",
              "      <td>100</td>\n",
              "      <td>0</td>\n",
              "      <td>0</td>\n",
              "      <td>0</td>\n",
              "      <td>0</td>\n",
              "      <td>0</td>\n",
              "      <td>168</td>\n",
              "      <td>232</td>\n",
              "      <td>225</td>\n",
              "      <td>0</td>\n",
              "      <td>41</td>\n",
              "      <td>172</td>\n",
              "      <td>147</td>\n",
              "      <td>148</td>\n",
              "      <td>153</td>\n",
              "      <td>155</td>\n",
              "      <td>146</td>\n",
              "      <td>137</td>\n",
              "      <td>141</td>\n",
              "      <td>143</td>\n",
              "      <td>137</td>\n",
              "      <td>137</td>\n",
              "      <td>126</td>\n",
              "      <td>140</td>\n",
              "      <td>0</td>\n",
              "      <td>133</td>\n",
              "      <td>224</td>\n",
              "      <td>222</td>\n",
              "      <td>56</td>\n",
              "      <td>0</td>\n",
              "      <td>0</td>\n",
              "    </tr>\n",
              "    <tr>\n",
              "      <th>4</th>\n",
              "      <td>3</td>\n",
              "      <td>0</td>\n",
              "      <td>0</td>\n",
              "      <td>0</td>\n",
              "      <td>0</td>\n",
              "      <td>0</td>\n",
              "      <td>0</td>\n",
              "      <td>0</td>\n",
              "      <td>0</td>\n",
              "      <td>0</td>\n",
              "      <td>0</td>\n",
              "      <td>37</td>\n",
              "      <td>0</td>\n",
              "      <td>0</td>\n",
              "      <td>0</td>\n",
              "      <td>0</td>\n",
              "      <td>0</td>\n",
              "      <td>0</td>\n",
              "      <td>17</td>\n",
              "      <td>0</td>\n",
              "      <td>0</td>\n",
              "      <td>0</td>\n",
              "      <td>0</td>\n",
              "      <td>0</td>\n",
              "      <td>0</td>\n",
              "      <td>0</td>\n",
              "      <td>0</td>\n",
              "      <td>0</td>\n",
              "      <td>0</td>\n",
              "      <td>0</td>\n",
              "      <td>0</td>\n",
              "      <td>0</td>\n",
              "      <td>0</td>\n",
              "      <td>0</td>\n",
              "      <td>0</td>\n",
              "      <td>0</td>\n",
              "      <td>0</td>\n",
              "      <td>21</td>\n",
              "      <td>204</td>\n",
              "      <td>235</td>\n",
              "      <td>...</td>\n",
              "      <td>0</td>\n",
              "      <td>2</td>\n",
              "      <td>0</td>\n",
              "      <td>0</td>\n",
              "      <td>0</td>\n",
              "      <td>0</td>\n",
              "      <td>0</td>\n",
              "      <td>0</td>\n",
              "      <td>0</td>\n",
              "      <td>0</td>\n",
              "      <td>0</td>\n",
              "      <td>0</td>\n",
              "      <td>0</td>\n",
              "      <td>0</td>\n",
              "      <td>0</td>\n",
              "      <td>0</td>\n",
              "      <td>0</td>\n",
              "      <td>0</td>\n",
              "      <td>0</td>\n",
              "      <td>0</td>\n",
              "      <td>0</td>\n",
              "      <td>0</td>\n",
              "      <td>0</td>\n",
              "      <td>0</td>\n",
              "      <td>1</td>\n",
              "      <td>0</td>\n",
              "      <td>2</td>\n",
              "      <td>69</td>\n",
              "      <td>0</td>\n",
              "      <td>2</td>\n",
              "      <td>0</td>\n",
              "      <td>0</td>\n",
              "      <td>0</td>\n",
              "      <td>0</td>\n",
              "      <td>0</td>\n",
              "      <td>0</td>\n",
              "      <td>0</td>\n",
              "      <td>0</td>\n",
              "      <td>0</td>\n",
              "      <td>0</td>\n",
              "    </tr>\n",
              "  </tbody>\n",
              "</table>\n",
              "<p>5 rows × 785 columns</p>\n",
              "</div>"
            ],
            "text/plain": [
              "   label  pixel1  pixel2  pixel3  ...  pixel781  pixel782  pixel783  pixel784\n",
              "0      0       0       0       0  ...         0         0         0         0\n",
              "1      1       0       0       0  ...         0         0         0         0\n",
              "2      2       0       0       0  ...        31         0         0         0\n",
              "3      2       0       0       0  ...       222        56         0         0\n",
              "4      3       0       0       0  ...         0         0         0         0\n",
              "\n",
              "[5 rows x 785 columns]"
            ]
          },
          "metadata": {
            "tags": []
          },
          "execution_count": 5
        }
      ]
    },
    {
      "cell_type": "code",
      "metadata": {
        "id": "67vpxslpm7lq",
        "colab_type": "code",
        "colab": {}
      },
      "source": [
        "training = np.array(fashion_train_df, dtype = 'float32')\n",
        "testing = np.array(fashion_test_df, dtype = 'float32')\n"
      ],
      "execution_count": 0,
      "outputs": []
    },
    {
      "cell_type": "code",
      "metadata": {
        "id": "wYFHp22AnVew",
        "colab_type": "code",
        "outputId": "1d7d7472-9990-4e2a-ab92-b16db0e4f370",
        "colab": {
          "base_uri": "https://localhost:8080/",
          "height": 34
        }
      },
      "source": [
        "training.shape\n",
        "testing.shape"
      ],
      "execution_count": 0,
      "outputs": [
        {
          "output_type": "execute_result",
          "data": {
            "text/plain": [
              "(10000, 785)"
            ]
          },
          "metadata": {
            "tags": []
          },
          "execution_count": 13
        }
      ]
    },
    {
      "cell_type": "code",
      "metadata": {
        "id": "wGt9l2lln3Gp",
        "colab_type": "code",
        "outputId": "48134937-e7bc-43a0-f9f6-47ee78203133",
        "colab": {
          "base_uri": "https://localhost:8080/",
          "height": 282
        }
      },
      "source": [
        "i = random.randint(1, 6000)\n",
        "plt.imshow(training [i, 1:].reshape((28, 28)), cmap = 'gray')"
      ],
      "execution_count": 0,
      "outputs": [
        {
          "output_type": "execute_result",
          "data": {
            "text/plain": [
              "<matplotlib.image.AxesImage at 0x7fce2d0dd7f0>"
            ]
          },
          "metadata": {
            "tags": []
          },
          "execution_count": 11
        },
        {
          "output_type": "display_data",
          "data": {
            "image/png": "[encoded data removed]",
            "text/plain": [
              "<Figure size 432x288 with 1 Axes>"
            ]
          },
          "metadata": {
            "tags": [],
            "needs_background": "light"
          }
        }
      ]
    },
    {
      "cell_type": "markdown",
      "metadata": {
        "id": "C9qMOhxVug-I",
        "colab_type": "text"
      },
      "source": [
        ""
      ]
    },
    {
      "cell_type": "code",
      "metadata": {
        "id": "ljyiAVIGonTz",
        "colab_type": "code",
        "outputId": "e769baed-b4c2-439a-8866-0d03ba1d0d52",
        "colab": {
          "base_uri": "https://localhost:8080/",
          "height": 34
        }
      },
      "source": [
        "label = training[i, 0]\n",
        "label"
      ],
      "execution_count": 0,
      "outputs": [
        {
          "output_type": "execute_result",
          "data": {
            "text/plain": [
              "0.0"
            ]
          },
          "metadata": {
            "tags": []
          },
          "execution_count": 12
        }
      ]
    },
    {
      "cell_type": "code",
      "metadata": {
        "id": "9ZZfUoG4uO9w",
        "colab_type": "code",
        "colab": {}
      },
      "source": [
        ""
      ],
      "execution_count": 0,
      "outputs": []
    },
    {
      "cell_type": "markdown",
      "metadata": {
        "id": "7VH0mqHVuh4m",
        "colab_type": "text"
      },
      "source": [
        "BUILD AND TRAIN DEEP LEARNING"
      ]
    },
    {
      "cell_type": "code",
      "metadata": {
        "id": "YYaedyvtuldk",
        "colab_type": "code",
        "colab": {}
      },
      "source": [
        "X_train = training[:, 1:]/255\n",
        "y_train = training[:,0]"
      ],
      "execution_count": 0,
      "outputs": []
    },
    {
      "cell_type": "code",
      "metadata": {
        "id": "BeZ0oFDovZDi",
        "colab_type": "code",
        "colab": {}
      },
      "source": [
        "X_test = testing[:, 1:]/255\n",
        "y_test = testing[:,0]"
      ],
      "execution_count": 0,
      "outputs": []
    },
    {
      "cell_type": "code",
      "metadata": {
        "id": "cMhwSksevhUI",
        "colab_type": "code",
        "outputId": "0027b600-ddd7-45a8-ed45-e3a4c01b6274",
        "colab": {
          "base_uri": "https://localhost:8080/",
          "height": 34
        }
      },
      "source": [
        "X_train.shape"
      ],
      "execution_count": 0,
      "outputs": [
        {
          "output_type": "execute_result",
          "data": {
            "text/plain": [
              "(60000, 784)"
            ]
          },
          "metadata": {
            "tags": []
          },
          "execution_count": 16
        }
      ]
    },
    {
      "cell_type": "code",
      "metadata": {
        "id": "8IADWWwVvow8",
        "colab_type": "code",
        "outputId": "9c3317f6-23b2-4f53-ed30-291d72c267ee",
        "colab": {
          "base_uri": "https://localhost:8080/",
          "height": 34
        }
      },
      "source": [
        "y_train.shape"
      ],
      "execution_count": 0,
      "outputs": [
        {
          "output_type": "execute_result",
          "data": {
            "text/plain": [
              "(60000,)"
            ]
          },
          "metadata": {
            "tags": []
          },
          "execution_count": 17
        }
      ]
    },
    {
      "cell_type": "code",
      "metadata": {
        "id": "a1c_ayA10K23",
        "colab_type": "code",
        "colab": {}
      },
      "source": [
        "X_train = X_train.reshape(X_train.shape[0], *(28, 28, 1))\n",
        "X_test = X_test.reshape(X_test.shape[0], *(28, 28, 1))"
      ],
      "execution_count": 0,
      "outputs": []
    },
    {
      "cell_type": "code",
      "metadata": {
        "id": "l0Uiu02m0sXc",
        "colab_type": "code",
        "outputId": "606c4e7e-63b0-4104-b6b7-375e9a075ca3",
        "colab": {
          "base_uri": "https://localhost:8080/",
          "height": 34
        }
      },
      "source": [
        "X_train.shape"
      ],
      "execution_count": 0,
      "outputs": [
        {
          "output_type": "execute_result",
          "data": {
            "text/plain": [
              "(60000, 28, 28, 1)"
            ]
          },
          "metadata": {
            "tags": []
          },
          "execution_count": 29
        }
      ]
    },
    {
      "cell_type": "code",
      "metadata": {
        "id": "4eqypWIo1Eim",
        "colab_type": "code",
        "outputId": "8e89d32b-c626-489c-e890-9848d842be0b",
        "colab": {
          "base_uri": "https://localhost:8080/",
          "height": 34
        }
      },
      "source": [
        "X_test.shape"
      ],
      "execution_count": 0,
      "outputs": [
        {
          "output_type": "execute_result",
          "data": {
            "text/plain": [
              "(10000, 28, 28, 1)"
            ]
          },
          "metadata": {
            "tags": []
          },
          "execution_count": 30
        }
      ]
    },
    {
      "cell_type": "code",
      "metadata": {
        "id": "8hv1sQVqvrHj",
        "colab_type": "code",
        "outputId": "3bd1431e-7bb0-4756-f103-853027c18ae0",
        "colab": {
          "base_uri": "https://localhost:8080/",
          "height": 425
        }
      },
      "source": [
        "from tensorflow.keras import datasets, layers, models\n",
        "cnn = models.Sequential()\n",
        "cnn.add(layers.Conv2D(32, (3, 3), activation = 'relu', input_shape = (28, 28,1) ))\n",
        "cnn.add(layers.MaxPooling2D(2, 2))\n",
        "cnn.add(layers.Conv2D(64, (3, 3), activation = 'relu'))\n",
        "cnn.add(layers.MaxPooling2D(2, 2))\n",
        "cnn.add(layers.Conv2D(64, (3, 3), activation = 'relu'))\n",
        "\n",
        "cnn.add(layers.Flatten())\n",
        "\n",
        "cnn.add(layers.Dense(64, activation = 'relu'))\n",
        "cnn.add(layers.Dense(10, activation = 'softmax'))\n",
        "cnn.summary()"
      ],
      "execution_count": 0,
      "outputs": [
        {
          "output_type": "stream",
          "text": [
            "Model: \"sequential_1\"\n",
            "_________________________________________________________________\n",
            "Layer (type)                 Output Shape              Param #   \n",
            "=================================================================\n",
            "conv2d_3 (Conv2D)            (None, 26, 26, 32)        320       \n",
            "_________________________________________________________________\n",
            "max_pooling2d_2 (MaxPooling2 (None, 13, 13, 32)        0         \n",
            "_________________________________________________________________\n",
            "conv2d_4 (Conv2D)            (None, 11, 11, 64)        18496     \n",
            "_________________________________________________________________\n",
            "max_pooling2d_3 (MaxPooling2 (None, 5, 5, 64)          0         \n",
            "_________________________________________________________________\n",
            "conv2d_5 (Conv2D)            (None, 3, 3, 64)          36928     \n",
            "_________________________________________________________________\n",
            "flatten_1 (Flatten)          (None, 576)               0         \n",
            "_________________________________________________________________\n",
            "dense_2 (Dense)              (None, 64)                36928     \n",
            "_________________________________________________________________\n",
            "dense_3 (Dense)              (None, 10)                650       \n",
            "=================================================================\n",
            "Total params: 93,322\n",
            "Trainable params: 93,322\n",
            "Non-trainable params: 0\n",
            "_________________________________________________________________\n"
          ],
          "name": "stdout"
        }
      ]
    },
    {
      "cell_type": "code",
      "metadata": {
        "id": "C4890lTK0vs0",
        "colab_type": "code",
        "colab": {}
      },
      "source": [
        ""
      ],
      "execution_count": 0,
      "outputs": []
    },
    {
      "cell_type": "code",
      "metadata": {
        "id": "KbwYFHCSxnY1",
        "colab_type": "code",
        "outputId": "29586bbb-932a-44a6-8f5c-96add5ea36e4",
        "colab": {
          "base_uri": "https://localhost:8080/",
          "height": 1000
        }
      },
      "source": [
        "cnn.compile(loss = 'sparse_categorical_crossentropy', optimizer = 'Adam', metrics = ['accuracy'])\n",
        "epochs = 150\n",
        "history = cnn.fit(X_train, y_train, batch_size=512, epochs = epochs)"
      ],
      "execution_count": 0,
      "outputs": [
        {
          "output_type": "stream",
          "text": [
            "Epoch 1/150\n",
            "118/118 [==============================] - 40s 341ms/step - loss: 0.8637 - accuracy: 0.6930\n",
            "Epoch 2/150\n",
            "118/118 [==============================] - 40s 336ms/step - loss: 0.4852 - accuracy: 0.8214\n",
            "Epoch 3/150\n",
            "118/118 [==============================] - 40s 338ms/step - loss: 0.4143 - accuracy: 0.8517\n",
            "Epoch 4/150\n",
            "118/118 [==============================] - 40s 337ms/step - loss: 0.3734 - accuracy: 0.8673\n",
            "Epoch 5/150\n",
            "118/118 [==============================] - 40s 337ms/step - loss: 0.3537 - accuracy: 0.8737\n",
            "Epoch 6/150\n",
            "118/118 [==============================] - 40s 336ms/step - loss: 0.3290 - accuracy: 0.8839\n",
            "Epoch 7/150\n",
            "118/118 [==============================] - 40s 336ms/step - loss: 0.3127 - accuracy: 0.8887\n",
            "Epoch 8/150\n",
            "118/118 [==============================] - 40s 342ms/step - loss: 0.2978 - accuracy: 0.8939\n",
            "Epoch 9/150\n",
            "118/118 [==============================] - 40s 338ms/step - loss: 0.2865 - accuracy: 0.8978\n",
            "Epoch 10/150\n",
            "118/118 [==============================] - 40s 341ms/step - loss: 0.2743 - accuracy: 0.9023\n",
            "Epoch 11/150\n",
            "118/118 [==============================] - 40s 340ms/step - loss: 0.2647 - accuracy: 0.9054\n",
            "Epoch 12/150\n",
            "118/118 [==============================] - 40s 338ms/step - loss: 0.2567 - accuracy: 0.9082\n",
            "Epoch 13/150\n",
            "118/118 [==============================] - 40s 339ms/step - loss: 0.2545 - accuracy: 0.9078\n",
            "Epoch 14/150\n",
            "118/118 [==============================] - 40s 339ms/step - loss: 0.2371 - accuracy: 0.9151\n",
            "Epoch 15/150\n",
            "118/118 [==============================] - 40s 339ms/step - loss: 0.2287 - accuracy: 0.9177\n",
            "Epoch 16/150\n",
            "118/118 [==============================] - 40s 338ms/step - loss: 0.2244 - accuracy: 0.9194\n",
            "Epoch 17/150\n",
            "118/118 [==============================] - 40s 338ms/step - loss: 0.2200 - accuracy: 0.9214\n",
            "Epoch 18/150\n",
            "118/118 [==============================] - 40s 337ms/step - loss: 0.2127 - accuracy: 0.9226\n",
            "Epoch 19/150\n",
            "118/118 [==============================] - 39s 333ms/step - loss: 0.2023 - accuracy: 0.9273\n",
            "Epoch 20/150\n",
            "118/118 [==============================] - 39s 332ms/step - loss: 0.2024 - accuracy: 0.9268\n",
            "Epoch 21/150\n",
            "118/118 [==============================] - 39s 333ms/step - loss: 0.1906 - accuracy: 0.9312\n",
            "Epoch 22/150\n",
            "118/118 [==============================] - 39s 330ms/step - loss: 0.1848 - accuracy: 0.9349\n",
            "Epoch 23/150\n",
            "118/118 [==============================] - 39s 332ms/step - loss: 0.1816 - accuracy: 0.9348\n",
            "Epoch 24/150\n",
            "118/118 [==============================] - 40s 337ms/step - loss: 0.1759 - accuracy: 0.9361\n",
            "Epoch 25/150\n",
            "118/118 [==============================] - 39s 333ms/step - loss: 0.1695 - accuracy: 0.9393\n",
            "Epoch 26/150\n",
            "118/118 [==============================] - 39s 332ms/step - loss: 0.1649 - accuracy: 0.9408\n",
            "Epoch 27/150\n",
            "118/118 [==============================] - 39s 334ms/step - loss: 0.1597 - accuracy: 0.9423\n",
            "Epoch 28/150\n",
            "118/118 [==============================] - 39s 332ms/step - loss: 0.1538 - accuracy: 0.9451\n",
            "Epoch 29/150\n",
            "118/118 [==============================] - 39s 333ms/step - loss: 0.1545 - accuracy: 0.9440\n",
            "Epoch 30/150\n",
            "118/118 [==============================] - 39s 328ms/step - loss: 0.1438 - accuracy: 0.9484\n",
            "Epoch 31/150\n",
            "118/118 [==============================] - 39s 334ms/step - loss: 0.1408 - accuracy: 0.9493\n",
            "Epoch 32/150\n",
            "118/118 [==============================] - 40s 339ms/step - loss: 0.1347 - accuracy: 0.9515\n",
            "Epoch 33/150\n",
            "118/118 [==============================] - 39s 333ms/step - loss: 0.1333 - accuracy: 0.9527\n",
            "Epoch 34/150\n",
            "118/118 [==============================] - 39s 334ms/step - loss: 0.1252 - accuracy: 0.9554\n",
            "Epoch 35/150\n",
            "118/118 [==============================] - 39s 334ms/step - loss: 0.1211 - accuracy: 0.9568\n",
            "Epoch 36/150\n",
            "118/118 [==============================] - 40s 336ms/step - loss: 0.1173 - accuracy: 0.9586\n",
            "Epoch 37/150\n",
            "118/118 [==============================] - 39s 333ms/step - loss: 0.1142 - accuracy: 0.9595\n",
            "Epoch 38/150\n",
            "118/118 [==============================] - 39s 329ms/step - loss: 0.1108 - accuracy: 0.9610\n",
            "Epoch 39/150\n",
            "118/118 [==============================] - 39s 331ms/step - loss: 0.1060 - accuracy: 0.9630\n",
            "Epoch 40/150\n",
            "118/118 [==============================] - 39s 329ms/step - loss: 0.0992 - accuracy: 0.9652\n",
            "Epoch 41/150\n",
            "118/118 [==============================] - 39s 329ms/step - loss: 0.0952 - accuracy: 0.9664\n",
            "Epoch 42/150\n",
            "118/118 [==============================] - 39s 327ms/step - loss: 0.0931 - accuracy: 0.9668\n",
            "Epoch 43/150\n",
            "118/118 [==============================] - 39s 328ms/step - loss: 0.0920 - accuracy: 0.9673\n",
            "Epoch 44/150\n",
            "118/118 [==============================] - 38s 325ms/step - loss: 0.0880 - accuracy: 0.9690\n",
            "Epoch 45/150\n",
            "118/118 [==============================] - 39s 328ms/step - loss: 0.0899 - accuracy: 0.9678\n",
            "Epoch 46/150\n",
            "118/118 [==============================] - 38s 323ms/step - loss: 0.0818 - accuracy: 0.9710\n",
            "Epoch 47/150\n",
            "118/118 [==============================] - 39s 327ms/step - loss: 0.0776 - accuracy: 0.9727\n",
            "Epoch 48/150\n",
            "118/118 [==============================] - 39s 328ms/step - loss: 0.0701 - accuracy: 0.9764\n",
            "Epoch 49/150\n",
            "118/118 [==============================] - 39s 328ms/step - loss: 0.0723 - accuracy: 0.9745\n",
            "Epoch 50/150\n",
            "118/118 [==============================] - 43s 361ms/step - loss: 0.0700 - accuracy: 0.9753\n",
            "Epoch 51/150\n",
            "118/118 [==============================] - 39s 326ms/step - loss: 0.0680 - accuracy: 0.9757\n",
            "Epoch 52/150\n",
            "118/118 [==============================] - 38s 326ms/step - loss: 0.0678 - accuracy: 0.9756\n",
            "Epoch 53/150\n",
            "118/118 [==============================] - 39s 328ms/step - loss: 0.0604 - accuracy: 0.9794\n",
            "Epoch 54/150\n",
            "118/118 [==============================] - 39s 329ms/step - loss: 0.0561 - accuracy: 0.9803\n",
            "Epoch 55/150\n",
            "118/118 [==============================] - 38s 325ms/step - loss: 0.0518 - accuracy: 0.9826\n",
            "Epoch 56/150\n",
            "118/118 [==============================] - 38s 326ms/step - loss: 0.0609 - accuracy: 0.9782\n",
            "Epoch 57/150\n",
            "118/118 [==============================] - 38s 325ms/step - loss: 0.0453 - accuracy: 0.9852\n",
            "Epoch 58/150\n",
            "118/118 [==============================] - 39s 326ms/step - loss: 0.0483 - accuracy: 0.9832\n",
            "Epoch 59/150\n",
            "118/118 [==============================] - 38s 326ms/step - loss: 0.0434 - accuracy: 0.9855\n",
            "Epoch 60/150\n",
            "118/118 [==============================] - 38s 326ms/step - loss: 0.0438 - accuracy: 0.9846\n",
            "Epoch 61/150\n",
            "118/118 [==============================] - 39s 327ms/step - loss: 0.0444 - accuracy: 0.9842\n",
            "Epoch 62/150\n",
            "118/118 [==============================] - 39s 329ms/step - loss: 0.0404 - accuracy: 0.9861\n",
            "Epoch 63/150\n",
            "118/118 [==============================] - 38s 326ms/step - loss: 0.0356 - accuracy: 0.9883\n",
            "Epoch 64/150\n",
            "118/118 [==============================] - 39s 326ms/step - loss: 0.0359 - accuracy: 0.9880\n",
            "Epoch 65/150\n",
            "118/118 [==============================] - 43s 369ms/step - loss: 0.0361 - accuracy: 0.9877\n",
            "Epoch 66/150\n",
            "118/118 [==============================] - 38s 326ms/step - loss: 0.0309 - accuracy: 0.9898\n",
            "Epoch 67/150\n",
            "118/118 [==============================] - 38s 326ms/step - loss: 0.0351 - accuracy: 0.9874\n",
            "Epoch 68/150\n",
            "118/118 [==============================] - 39s 327ms/step - loss: 0.0295 - accuracy: 0.9899\n",
            "Epoch 69/150\n",
            "118/118 [==============================] - 39s 328ms/step - loss: 0.0241 - accuracy: 0.9922\n",
            "Epoch 70/150\n",
            "118/118 [==============================] - 38s 325ms/step - loss: 0.0396 - accuracy: 0.9856\n",
            "Epoch 71/150\n",
            "118/118 [==============================] - 38s 324ms/step - loss: 0.0298 - accuracy: 0.9895\n",
            "Epoch 72/150\n",
            "118/118 [==============================] - 38s 324ms/step - loss: 0.0190 - accuracy: 0.9942\n",
            "Epoch 73/150\n",
            "118/118 [==============================] - 38s 322ms/step - loss: 0.0298 - accuracy: 0.9890\n",
            "Epoch 74/150\n",
            "118/118 [==============================] - 38s 321ms/step - loss: 0.0216 - accuracy: 0.9929\n",
            "Epoch 75/150\n",
            "118/118 [==============================] - 38s 322ms/step - loss: 0.0222 - accuracy: 0.9928\n",
            "Epoch 76/150\n",
            "118/118 [==============================] - 38s 321ms/step - loss: 0.0232 - accuracy: 0.9922\n",
            "Epoch 77/150\n",
            "118/118 [==============================] - 38s 324ms/step - loss: 0.0163 - accuracy: 0.9951\n",
            "Epoch 78/150\n",
            "118/118 [==============================] - 38s 325ms/step - loss: 0.0198 - accuracy: 0.9933\n",
            "Epoch 79/150\n",
            "118/118 [==============================] - 38s 322ms/step - loss: 0.0324 - accuracy: 0.9883\n",
            "Epoch 80/150\n",
            "118/118 [==============================] - 38s 322ms/step - loss: 0.0414 - accuracy: 0.9847\n",
            "Epoch 81/150\n",
            "118/118 [==============================] - 43s 361ms/step - loss: 0.0189 - accuracy: 0.9939\n",
            "Epoch 82/150\n",
            "118/118 [==============================] - 38s 321ms/step - loss: 0.0115 - accuracy: 0.9969\n",
            "Epoch 83/150\n",
            "118/118 [==============================] - 40s 337ms/step - loss: 0.0079 - accuracy: 0.9984\n",
            "Epoch 84/150\n",
            "118/118 [==============================] - 39s 326ms/step - loss: 0.0112 - accuracy: 0.9967\n",
            "Epoch 85/150\n",
            "118/118 [==============================] - 39s 327ms/step - loss: 0.0094 - accuracy: 0.9976\n",
            "Epoch 86/150\n",
            "118/118 [==============================] - 38s 322ms/step - loss: 0.0218 - accuracy: 0.9923\n",
            "Epoch 87/150\n",
            "111/118 [===========================>..] - ETA: 2s - loss: 0.0228 - accuracy: 0.9919"
          ],
          "name": "stdout"
        }
      ]
    },
    {
      "cell_type": "code",
      "metadata": {
        "id": "joG3Uvxvzmuj",
        "colab_type": "code",
        "colab": {}
      },
      "source": [
        ""
      ],
      "execution_count": 0,
      "outputs": []
    },
    {
      "cell_type": "markdown",
      "metadata": {
        "id": "oDDi1phV2GtM",
        "colab_type": "text"
      },
      "source": [
        "EVALUATE THE MODEL"
      ]
    },
    {
      "cell_type": "code",
      "metadata": {
        "id": "0LYazKal2JAn",
        "colab_type": "code",
        "colab": {}
      },
      "source": [
        "evaluation = cnn.evaluate(X_test, y_test)\n",
        "print('Test Accuracy : {:.3f}'.format(evaluation[1]))"
      ],
      "execution_count": 0,
      "outputs": []
    },
    {
      "cell_type": "code",
      "metadata": {
        "id": "Q_TIVgMpB8o6",
        "colab_type": "code",
        "colab": {}
      },
      "source": [
        "# get the predictions for the test data\n",
        "predicted_classes = cnn.predict_classes(X_test)"
      ],
      "execution_count": 0,
      "outputs": []
    },
    {
      "cell_type": "code",
      "metadata": {
        "id": "h7sIUcbmB9_K",
        "colab_type": "code",
        "colab": {}
      },
      "source": [
        "L = 5\n",
        "W = 5\n",
        "fig, axes = plt.subplots(L, W, figsize = (12,12))\n",
        "axes = axes.ravel() # \n",
        "\n",
        "for i in np.arange(0, L * W):  \n",
        "    axes[i].imshow(X_test[i].reshape(28,28))\n",
        "    axes[i].set_title(\"Prediction Class = {:0.1f}\\n True Class = {:0.1f}\".format(predicted_classes[i], y_test[i]))\n",
        "    axes[i].axis('off')\n",
        "\n",
        "plt.subplots_adjust(wspace=0.5)"
      ],
      "execution_count": 0,
      "outputs": []
    },
    {
      "cell_type": "code",
      "metadata": {
        "id": "Fv5qw5k147NH",
        "colab_type": "code",
        "colab": {}
      },
      "source": [
        "from sklearn.metrics import confusion_matrix\n",
        "cm = confusion_matrix(y_test, predicted_classes)\n",
        "plt.figure(figsize = (14,10))\n",
        "sns.heatmap(cm, annot=True)\n",
        "# Sum the diagonal element to get the total true correct values"
      ],
      "execution_count": 0,
      "outputs": []
    },
    {
      "cell_type": "code",
      "metadata": {
        "id": "L12Zd41vCHum",
        "colab_type": "code",
        "colab": {}
      },
      "source": [
        "from sklearn.metrics import classification_report\n",
        "\n",
        "num_classes = 10\n",
        "target_names = [\"Class {}\".format(i) for i in range(num_classes)]\n",
        "\n",
        "print(classification_report(y_test, predicted_classes, target_names = target_names))"
      ],
      "execution_count": 0,
      "outputs": []
    }
  ]
}